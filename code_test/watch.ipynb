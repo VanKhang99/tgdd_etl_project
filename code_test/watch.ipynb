{
 "cells": [
  {
   "cell_type": "code",
   "execution_count": 1,
   "metadata": {},
   "outputs": [],
   "source": [
    "from selenium import webdriver\n",
    "from selenium.webdriver.chrome.options import Options\n",
    "from selenium.webdriver.chrome.service import Service\n",
    "from selenium.webdriver.common.by import By\n",
    "from selenium.common.exceptions import NoSuchElementException\n",
    "from webdriver_manager.chrome import ChromeDriverManager\n",
    "\n",
    "import time\n",
    "import re"
   ]
  },
  {
   "cell_type": "code",
   "execution_count": 22,
   "metadata": {},
   "outputs": [],
   "source": [
    "import pandas as pd"
   ]
  },
  {
   "cell_type": "code",
   "execution_count": 32,
   "metadata": {},
   "outputs": [
    {
     "ename": "IndexError",
     "evalue": "list index out of range",
     "output_type": "error",
     "traceback": [
      "\u001b[1;31m---------------------------------------------------------------------------\u001b[0m",
      "\u001b[1;31mIndexError\u001b[0m                                Traceback (most recent call last)",
      "Cell \u001b[1;32mIn[32], line 66\u001b[0m\n\u001b[0;32m     63\u001b[0m     df \u001b[38;5;241m=\u001b[39m pd\u001b[38;5;241m.\u001b[39mDataFrame(data_watches, columns\u001b[38;5;241m=\u001b[39m[\u001b[38;5;124m'\u001b[39m\u001b[38;5;124mproduct_id\u001b[39m\u001b[38;5;124m'\u001b[39m, \u001b[38;5;124m'\u001b[39m\u001b[38;5;124mgender\u001b[39m\u001b[38;5;124m'\u001b[39m, \u001b[38;5;124m'\u001b[39m\u001b[38;5;124mface_diameter_mm\u001b[39m\u001b[38;5;124m'\u001b[39m, \u001b[38;5;124m'\u001b[39m\u001b[38;5;124mmachine_type\u001b[39m\u001b[38;5;124m'\u001b[39m, \u001b[38;5;124m'\u001b[39m\u001b[38;5;124mface_thinness_mm\u001b[39m\u001b[38;5;124m'\u001b[39m, \u001b[38;5;124m'\u001b[39m\u001b[38;5;124mglass_surface_material\u001b[39m\u001b[38;5;124m'\u001b[39m])\n\u001b[0;32m     64\u001b[0m     \u001b[38;5;28;01mreturn\u001b[39;00m df\n\u001b[1;32m---> 66\u001b[0m watches_df \u001b[38;5;241m=\u001b[39m \u001b[43mwatch\u001b[49m\u001b[43m(\u001b[49m\u001b[43m)\u001b[49m\n\u001b[0;32m     67\u001b[0m watches_df\n\u001b[0;32m     68\u001b[0m \u001b[38;5;66;03m# watch_specifications()\u001b[39;00m\n",
      "Cell \u001b[1;32mIn[32], line 61\u001b[0m, in \u001b[0;36mwatch\u001b[1;34m()\u001b[0m\n\u001b[0;32m     58\u001b[0m     driver \u001b[38;5;241m=\u001b[39m run_driver(new_url)\n\u001b[0;32m     60\u001b[0m     parent_tags_list \u001b[38;5;241m=\u001b[39m driver\u001b[38;5;241m.\u001b[39mfind_elements(By\u001b[38;5;241m.\u001b[39mXPATH, \u001b[38;5;124m\"\u001b[39m\u001b[38;5;124m//li[@class=\u001b[39m\u001b[38;5;124m'\u001b[39m\u001b[38;5;124m item  __cate_7264\u001b[39m\u001b[38;5;124m'\u001b[39m\u001b[38;5;124m]\u001b[39m\u001b[38;5;124m\"\u001b[39m)\n\u001b[1;32m---> 61\u001b[0m     \u001b[43mget_specifications\u001b[49m\u001b[43m(\u001b[49m\u001b[43mparent_tags_list\u001b[49m\u001b[43m,\u001b[49m\u001b[43m \u001b[49m\u001b[43mdata_watches\u001b[49m\u001b[43m)\u001b[49m  \n\u001b[0;32m     63\u001b[0m df \u001b[38;5;241m=\u001b[39m pd\u001b[38;5;241m.\u001b[39mDataFrame(data_watches, columns\u001b[38;5;241m=\u001b[39m[\u001b[38;5;124m'\u001b[39m\u001b[38;5;124mproduct_id\u001b[39m\u001b[38;5;124m'\u001b[39m, \u001b[38;5;124m'\u001b[39m\u001b[38;5;124mgender\u001b[39m\u001b[38;5;124m'\u001b[39m, \u001b[38;5;124m'\u001b[39m\u001b[38;5;124mface_diameter_mm\u001b[39m\u001b[38;5;124m'\u001b[39m, \u001b[38;5;124m'\u001b[39m\u001b[38;5;124mmachine_type\u001b[39m\u001b[38;5;124m'\u001b[39m, \u001b[38;5;124m'\u001b[39m\u001b[38;5;124mface_thinness_mm\u001b[39m\u001b[38;5;124m'\u001b[39m, \u001b[38;5;124m'\u001b[39m\u001b[38;5;124mglass_surface_material\u001b[39m\u001b[38;5;124m'\u001b[39m])\n\u001b[0;32m     64\u001b[0m \u001b[38;5;28;01mreturn\u001b[39;00m df\n",
      "Cell \u001b[1;32mIn[32], line 43\u001b[0m, in \u001b[0;36mget_specifications\u001b[1;34m(parent_tags_list, data_watches)\u001b[0m\n\u001b[0;32m     41\u001b[0m         glass_surface_material \u001b[38;5;241m=\u001b[39m data[\u001b[38;5;241m2\u001b[39m]\u001b[38;5;241m.\u001b[39msplit(\u001b[38;5;124m'\u001b[39m\u001b[38;5;124m:\u001b[39m\u001b[38;5;124m'\u001b[39m)[\u001b[38;5;241m1\u001b[39m]\u001b[38;5;241m.\u001b[39mstrip()\n\u001b[0;32m     42\u001b[0m     \u001b[38;5;28;01melse\u001b[39;00m:\n\u001b[1;32m---> 43\u001b[0m         glass_surface_material \u001b[38;5;241m=\u001b[39m \u001b[43mdata\u001b[49m\u001b[43m[\u001b[49m\u001b[38;5;241;43m1\u001b[39;49m\u001b[43m]\u001b[49m\u001b[38;5;241m.\u001b[39msplit(\u001b[38;5;124m'\u001b[39m\u001b[38;5;124m:\u001b[39m\u001b[38;5;124m'\u001b[39m)[\u001b[38;5;241m1\u001b[39m]\u001b[38;5;241m.\u001b[39mstrip()\n\u001b[0;32m     45\u001b[0m data_watches\u001b[38;5;241m.\u001b[39mappend([product_id, gender, face_diameter_mm, machine_type, face_thinness_mm, glass_surface_material])\n",
      "\u001b[1;31mIndexError\u001b[0m: list index out of range"
     ]
    }
   ],
   "source": [
    "\n",
    "def run_driver(url):\n",
    "    service = Service(executable_path=ChromeDriverManager().install())\n",
    "    options = Options()\n",
    "    driver = webdriver.Chrome(service=service, options=options)\n",
    "    driver.get(url)\n",
    "    time.sleep(6)\n",
    "    return driver\n",
    "\n",
    "def check_element_html(parent_tag, xpath, one_tag=True):\n",
    "    try:\n",
    "        return parent_tag.find_element(By.XPATH, xpath) if one_tag else parent_tag.find_elements(By.XPATH, xpath)\n",
    "    except NoSuchElementException:\n",
    "        return None\n",
    "\n",
    "def get_specifications(parent_tags_list, data_watches):\n",
    "    # i = 0\n",
    "    for parent_tag in parent_tags_list:\n",
    "        product_id = parent_tag.get_attribute('data-id')\n",
    "        gender = None\n",
    "        face_diameter_mm = None\n",
    "        machine_type = None\n",
    "        face_thinness_mm = None\n",
    "        glass_surface_material = None\n",
    "        \n",
    "        name_tag = check_element_html(parent_tag, \"./a[@class='main-contain ']//h3[@class='fashionWatch-name']\")\n",
    "        if name_tag is not None:\n",
    "            title = name_tag.text.strip()\n",
    "\n",
    "            gender = re.findall(r'(?:Nam|Nữ|Cặp đôi|Trẻ em|Unisex)', title)[0]\n",
    "            face_diameter = re.findall(r'[\\d.]+(?=\\s?mm)', title)\n",
    "            if len(face_diameter) > 0:\n",
    "                face_diameter_mm = float(face_diameter[0])\n",
    "            \n",
    "        specification_tags = check_element_html(parent_tag, \".//div[@class='utility']//p\", False)\n",
    "        if specification_tags is not None:\n",
    "            data = [tag.text for tag in specification_tags]\n",
    "            machine_type = data[0].split(':')[1].strip()\n",
    "            \n",
    "            if len(data) > 2:\n",
    "                face_thinness_mm = float(data[1].split(':')[1].replace('mm', '').strip())\n",
    "                glass_surface_material = data[2].split(':')[1].strip()\n",
    "            else:\n",
    "                glass_surface_material = data[1].split(':')[1].strip()\n",
    "                               \n",
    "        data_watches.append([product_id, gender, face_diameter_mm, machine_type, face_thinness_mm, glass_surface_material])\n",
    "        # print(f'############ {i} ############')\n",
    "        # i += 1\n",
    "  \n",
    "def watch():\n",
    "    url = \"https://www.thegioididong.com/dong-ho-deo-tay-casio\"\n",
    "    driver = run_driver(url)\n",
    "    quantity_watches = driver.find_element(By.XPATH, \"//section[@id='categoryPage']//div[@class='box-sort ']/p[@class='sort-total']/b\").text\n",
    "    pages = int(quantity_watches) // 20\n",
    "    \n",
    "    data_watches = []   \n",
    "    for page in range(pages):\n",
    "        new_url = f\"https://www.thegioididong.com/dong-ho-deo-tay-casio#c=7264&m=17875&o=14&pi={page}\"\n",
    "        driver = run_driver(new_url)\n",
    "\n",
    "        parent_tags_list = driver.find_elements(By.XPATH, \"//li[@class=' item  __cate_7264']\")\n",
    "        get_specifications(parent_tags_list, data_watches)  \n",
    "        \n",
    "    df = pd.DataFrame(data_watches, columns=['product_id', 'gender', 'face_diameter_mm', 'machine_type', 'face_thinness_mm', 'glass_surface_material'])\n",
    "    return df\n",
    "\n",
    "watches_df = watch()\n",
    "watches_df\n",
    "# watch_specifications()\n",
    "\n",
    "# Error in page 7, error part: glass_surface_material"
   ]
  },
  {
   "cell_type": "code",
   "execution_count": 7,
   "metadata": {},
   "outputs": [
    {
     "data": {
      "text/plain": [
       "9.3"
      ]
     },
     "execution_count": 7,
     "metadata": {},
     "output_type": "execute_result"
    }
   ],
   "source": [
    "s = 'Độ mỏng mặt: 9.3 mm'\n",
    "float(s.split(':')[1].replace(' mm', '').strip())"
   ]
  },
  {
   "cell_type": "code",
   "execution_count": 16,
   "metadata": {},
   "outputs": [
    {
     "data": {
      "text/plain": [
       "13"
      ]
     },
     "execution_count": 16,
     "metadata": {},
     "output_type": "execute_result"
    }
   ],
   "source": [
    "271//20"
   ]
  }
 ],
 "metadata": {
  "kernelspec": {
   "display_name": "Python 3",
   "language": "python",
   "name": "python3"
  },
  "language_info": {
   "codemirror_mode": {
    "name": "ipython",
    "version": 3
   },
   "file_extension": ".py",
   "mimetype": "text/x-python",
   "name": "python",
   "nbconvert_exporter": "python",
   "pygments_lexer": "ipython3",
   "version": "3.12.4"
  }
 },
 "nbformat": 4,
 "nbformat_minor": 2
}
