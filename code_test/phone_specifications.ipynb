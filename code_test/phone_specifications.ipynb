{
 "cells": [
  {
   "cell_type": "code",
   "execution_count": 1,
   "metadata": {},
   "outputs": [],
   "source": [
    "from selenium import webdriver\n",
    "from selenium.webdriver.chrome.options import Options\n",
    "from selenium.webdriver.chrome.service import Service\n",
    "from selenium.webdriver.common.by import By\n",
    "from selenium.common.exceptions import NoSuchElementException\n",
    "from webdriver_manager.chrome import ChromeDriverManager\n",
    "\n",
    "import time\n",
    "import re"
   ]
  },
  {
   "cell_type": "code",
   "execution_count": 23,
   "metadata": {},
   "outputs": [
    {
     "name": "stdout",
     "output_type": "stream",
     "text": [
      "{'product_id': '320721', 'main_sceen_inch': 7.6, 'secondary_screen_inch': 6.3, 'screen_resolution': 'QXGA+', 'chip': 'Chip Snapdragon 8 Gen 3 for Galaxy', 'ram': 12, 'capacity': 256, 'back_camera': 'Chính 50 MP & Phụ 12 MP, 10 MP', 'front_camera': '10 MP & 4 MP', 'battery_mAh': 4400, 'charge_W': 25}\n",
      "{'product_id': '320722', 'main_sceen_inch': 6.7, 'secondary_screen_inch': 3.4, 'screen_resolution': 'Full HD+', 'chip': 'Chip Snapdragon 8 Gen 3 for Galaxy', 'ram': 12, 'capacity': 256, 'back_camera': 'Chính 50 MP & Phụ 12 MP', 'front_camera': '10 MP', 'battery_mAh': 4000, 'charge_W': 25}\n",
      "{'product_id': '249948', 'main_sceen_inch': 6.8, 'secondary_screen_inch': None, 'screen_resolution': 'Quad HD+ (2K+)', 'chip': 'Chip Snapdragon 8 Gen 2 for Galaxy', 'ram': 8, 'capacity': 256, 'back_camera': 'Chính 200 MP & Phụ 12 MP, 10 MP, 10 MP', 'front_camera': '12 MP', 'battery_mAh': 5000, 'charge_W': 45}\n",
      "{'product_id': '322096', 'main_sceen_inch': 6.6, 'secondary_screen_inch': None, 'screen_resolution': 'Full HD+', 'chip': 'Chip Exynos 1480 8 nhân', 'ram': 12, 'capacity': 256, 'back_camera': 'Chính 50 MP & Phụ 12 MP, 5 MP', 'front_camera': '32 MP', 'battery_mAh': 5000, 'charge_W': 25}\n",
      "{'product_id': '325073', 'main_sceen_inch': 6.5, 'secondary_screen_inch': None, 'screen_resolution': 'Full HD+', 'chip': 'Chip MediaTek Dimensity 6100+', 'ram': 4, 'capacity': 128, 'back_camera': 'Chính 50 MP & Phụ 5 MP, 2 MP', 'front_camera': '13 MP', 'battery_mAh': 6000, 'charge_W': 25}\n",
      "{'product_id': '323563', 'main_sceen_inch': 6.6, 'secondary_screen_inch': None, 'screen_resolution': 'Full HD+', 'chip': 'Chip Exynos 1380 8 nhân', 'ram': 8, 'capacity': 256, 'back_camera': 'Chính 50 MP & Phụ 8 MP, 2 MP', 'front_camera': '13 MP', 'battery_mAh': 6000, 'charge_W': 25}\n",
      "{'product_id': '327372', 'main_sceen_inch': 6.7, 'secondary_screen_inch': None, 'screen_resolution': 'Full HD+', 'chip': 'Chip Snapdragon 7 Gen 1 8 nhân', 'ram': 12, 'capacity': 256, 'back_camera': 'Chính 50 MP & Phụ 8 MP, 2 MP', 'front_camera': '50 MP', 'battery_mAh': 5000, 'charge_W': 45}\n",
      "{'product_id': '275953', 'main_sceen_inch': 6.7, 'secondary_screen_inch': None, 'screen_resolution': 'Full HD+', 'chip': 'Chip Exynos 1380 8 nhân', 'ram': 8, 'capacity': 256, 'back_camera': 'Chính 108 MP & Phụ 8 MP, 2 MP', 'front_camera': '32 MP', 'battery_mAh': 6000, 'charge_W': 25}\n",
      "{'product_id': '306994', 'main_sceen_inch': 6.4, 'secondary_screen_inch': None, 'screen_resolution': 'Full HD+', 'chip': 'Chip Exynos 2200 8 nhân', 'ram': 8, 'capacity': 128, 'back_camera': 'Chính 50 MP & Phụ 12 MP, 8 MP', 'front_camera': '10 MP', 'battery_mAh': 4500, 'charge_W': 25}\n",
      "{'product_id': '321772', 'main_sceen_inch': 6.6, 'secondary_screen_inch': None, 'screen_resolution': 'Full HD+', 'chip': 'Chip Exynos 1380 8 nhân', 'ram': 8, 'capacity': 256, 'back_camera': 'Chính 50 MP & Phụ 8 MP, 5 MP', 'front_camera': '13 MP', 'battery_mAh': 5000, 'charge_W': 25}\n",
      "{'product_id': '307174', 'main_sceen_inch': 6.8, 'secondary_screen_inch': None, 'screen_resolution': 'Quad HD+ (2K+)', 'chip': 'Chip Snapdragon 8 Gen 3 for Galaxy', 'ram': 12, 'capacity': 256, 'back_camera': 'Chính 200 MP & Phụ 50 MP, 12 MP, 10 MP', 'front_camera': '12 MP', 'battery_mAh': 5000, 'charge_W': 45}\n",
      "{'product_id': '319665', 'main_sceen_inch': 6.2, 'secondary_screen_inch': None, 'screen_resolution': 'Full HD+', 'chip': 'Chip Exynos 2400', 'ram': 8, 'capacity': 256, 'back_camera': 'Chính 50 MP & Phụ 12 MP, 10 MP', 'front_camera': '12 MP', 'battery_mAh': 4000, 'charge_W': 25}\n",
      "{'product_id': '307172', 'main_sceen_inch': 6.7, 'secondary_screen_inch': None, 'screen_resolution': 'Quad HD+ (2K+)', 'chip': 'Chip Exynos 2400', 'ram': 12, 'capacity': 256, 'back_camera': 'Chính 50 MP & Phụ 12 MP, 10 MP', 'front_camera': '12 MP', 'battery_mAh': 4900, 'charge_W': 45}\n",
      "{'product_id': '298377', 'main_sceen_inch': 6.6, 'secondary_screen_inch': None, 'screen_resolution': 'Full HD+', 'chip': 'Chip MediaTek Dimensity 1080 8 nhân', 'ram': 8, 'capacity': 256, 'back_camera': 'Chính 48 MP & Phụ 8 MP, 5 MP', 'front_camera': '13 MP', 'battery_mAh': 5000, 'charge_W': 25}\n",
      "{'product_id': '319904', 'main_sceen_inch': 6.5, 'secondary_screen_inch': None, 'screen_resolution': 'Full HD+', 'chip': 'Chip Exynos 1280', 'ram': 8, 'capacity': 128, 'back_camera': 'Chính 50 MP & Phụ 8 MP, 2 MP', 'front_camera': '13 MP', 'battery_mAh': 5000, 'charge_W': 25}\n",
      "{'product_id': '319584', 'main_sceen_inch': 6.5, 'secondary_screen_inch': None, 'screen_resolution': 'Full HD+', 'chip': 'Chip MediaTek Dimensity 6100+', 'ram': 8, 'capacity': 256, 'back_camera': 'Chính 50 MP & Phụ 5 MP, 2 MP', 'front_camera': '13 MP', 'battery_mAh': 5000, 'charge_W': 25}\n",
      "{'product_id': '316075', 'screen_resolution': 'Full HD+', 'main_sceen_inch': 6.5, 'secondary_screen_inch': None, 'chip': 'Chip MediaTek Helio G99', 'ram': 8, 'capacity': 256, 'back_camera': 'Chính 50 MP & Phụ 5 MP, 2 MP', 'front_camera': '13 MP', 'battery_mAh': 5000, 'charge_W': 25}\n",
      "{'product_id': '274018', 'main_sceen_inch': 6.5, 'secondary_screen_inch': None, 'screen_resolution': 'Full HD+', 'chip': 'Chip MediaTek Helio G99', 'ram': 6, 'capacity': 128, 'back_camera': 'Chính 50 MP & Phụ 5 MP, 2 MP', 'front_camera': '13 MP', 'battery_mAh': 5000, 'charge_W': 25}\n",
      "{'product_id': '317530', 'main_sceen_inch': 6.7, 'secondary_screen_inch': None, 'screen_resolution': 'Full HD+', 'chip': 'Chip Snapdragon 680', 'ram': 6, 'capacity': 128, 'back_camera': 'Chính 50 MP & Phụ 2 MP, 2 MP', 'front_camera': '13 MP', 'battery_mAh': 5000, 'charge_W': 25}\n",
      "{'product_id': '313194', 'main_sceen_inch': 6.7, 'secondary_screen_inch': None, 'screen_resolution': 'HD+', 'chip': 'Chip MediaTek Helio G85', 'ram': 6, 'capacity': 128, 'back_camera': 'Chính 50 MP & Phụ 2 MP', 'front_camera': '8 MP', 'battery_mAh': 5000, 'charge_W': 25}\n"
     ]
    }
   ],
   "source": [
    "service = Service(executable_path=ChromeDriverManager().install())\n",
    "options = Options()\n",
    "\n",
    "driver = webdriver.Chrome(service=service, options=options)\n",
    "\n",
    "url = \"https://www.thegioididong.com/dtdd-samsung\"\n",
    "\n",
    "driver.get(url)\n",
    "time.sleep(7)\n",
    "\n",
    "parent_tags_list = driver.find_elements(By.XPATH, \"//li[@class=' item ajaxed __cate_42']\")\n",
    "\n",
    "def check_element_html(parent_tag, xpath, one_tag=True):\n",
    "    try:\n",
    "        return parent_tag.find_element(By.XPATH, xpath) if one_tag else parent_tag.find_elements(By.XPATH, xpath)\n",
    "    except NoSuchElementException:\n",
    "        return None\n",
    "    \n",
    "def phone_specifications(): \n",
    "    for parent_tag in parent_tags_list:\n",
    "        ### Find tags for multiple tables ###\n",
    "        \n",
    "        product_id = parent_tag.get_attribute('data-id')\n",
    "        product = {'product_id': product_id}\n",
    "\n",
    "        screen_tags = check_element_html(parent_tag, \"./a[@class='main-contain ']//div[@class='item-compare gray-bg']/span\", False)\n",
    "        if screen_tags is not None:\n",
    "            for tag in screen_tags:\n",
    "                content = tag.text\n",
    "                \n",
    "                if '\"' in content:\n",
    "                    data_screen = re.findall(r'[\\d.]+', content)\n",
    "                    main_sceen_inch = float(data_screen[0])\n",
    "                    secondary_screen_inch = float(data_screen[1]) if len(data_screen) > 1 else None\n",
    "                    \n",
    "                    product.update({'main_sceen_inch': main_sceen_inch, 'secondary_screen_inch': secondary_screen_inch})\n",
    "                else:\n",
    "                    screen_resolution = content.strip()\n",
    "                    product.update({'screen_resolution': screen_resolution})\n",
    "                    \n",
    "        specification_tags = check_element_html(parent_tag, \".//div[@class='utility']//p\", False)\n",
    "        if specification_tags is not None:\n",
    "            for tag in specification_tags:\n",
    "                content = tag.text\n",
    "                \n",
    "                if 'Chip' in content:\n",
    "                    chip = content.strip()\n",
    "                elif 'RAM' in content:\n",
    "                    ram = int(re.findall(r'[\\d]+', tag.text)[0])\n",
    "                elif 'Dung lượng' in content:\n",
    "                    capacity = int(re.findall(r'[\\d]+', tag.text)[0])\n",
    "                elif 'Camera sau' in content:\n",
    "                    back_camera = content.split(':')[1].strip()\n",
    "                elif 'Camera trước' in content:\n",
    "                    front_camera = content.split(':')[1].strip()\n",
    "                elif 'Pin' or 'Sạc' in content:\n",
    "                    data = content.split(', ')\n",
    "                    battery_mAh = int(re.findall(r'[\\d]+', data[0])[0])\n",
    "                    charge_W = int(re.findall(r'[\\d]+', data[1])[0])\n",
    "                    \n",
    "            product.update({'chip': chip, 'ram': ram, 'capacity': capacity, 'back_camera': back_camera, 'front_camera': front_camera, 'battery_mAh': battery_mAh, 'charge_W': charge_W})   \n",
    "            \n",
    "        print(product)  \n",
    "                \n",
    "            \n",
    "\n",
    "phone_specifications()    "
   ]
  },
  {
   "cell_type": "code",
   "execution_count": 11,
   "metadata": {},
   "outputs": [
    {
     "data": {
      "text/plain": [
       "''"
      ]
     },
     "execution_count": 11,
     "metadata": {},
     "output_type": "execute_result"
    }
   ],
   "source": [
    "main_sceen_inch, secondary_screen_inch, screen_resolution = '', '', ''\n",
    "main_sceen_inch"
   ]
  }
 ],
 "metadata": {
  "kernelspec": {
   "display_name": "Python 3",
   "language": "python",
   "name": "python3"
  },
  "language_info": {
   "codemirror_mode": {
    "name": "ipython",
    "version": 3
   },
   "file_extension": ".py",
   "mimetype": "text/x-python",
   "name": "python",
   "nbconvert_exporter": "python",
   "pygments_lexer": "ipython3",
   "version": "3.12.4"
  }
 },
 "nbformat": 4,
 "nbformat_minor": 2
}
