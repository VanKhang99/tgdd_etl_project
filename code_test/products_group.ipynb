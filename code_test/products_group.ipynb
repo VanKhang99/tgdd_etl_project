{
 "cells": [
  {
   "cell_type": "code",
   "execution_count": 1,
   "metadata": {},
   "outputs": [],
   "source": [
    "from selenium import webdriver\n",
    "from selenium.webdriver.chrome.options import Options\n",
    "from selenium.webdriver.chrome.service import Service\n",
    "from selenium.webdriver.common.by import By\n",
    "from selenium.common.exceptions import NoSuchElementException\n",
    "from webdriver_manager.chrome import ChromeDriverManager\n",
    "\n",
    "import time\n",
    "import re"
   ]
  },
  {
   "cell_type": "code",
   "execution_count": null,
   "metadata": {},
   "outputs": [],
   "source": [
    "service = Service(executable_path=ChromeDriverManager().install())\n",
    "options = Options()\n",
    "\n",
    "driver = webdriver.Chrome(service=service, options=options)\n",
    "\n",
    "url = \"https://www.thegioididong.com/dtdd-samsung\"\n",
    "\n",
    "driver.get(url)\n",
    "time.sleep(8)\n",
    "\n",
    "parent_tags_list = driver.find_elements(By.XPATH, \"//li[@class=' item ajaxed __cate_42']\")\n",
    "\n",
    "def check_element_html(parent_tag, xpath, one_tag=True):\n",
    "    try:\n",
    "        return parent_tag.find_element(By.XPATH, xpath) if one_tag else parent_tag.find_elements(By.XPATH, xpath)\n",
    "    except NoSuchElementException:\n",
    "        return None\n",
    "\n",
    "def samsung_specifications():a\n",
    "    i = 0\n",
    "    for parent_tag in parent_tags_list:\n",
    "        group_tag = check_element_html(parent_tag, \"./a[@class='main-contain ']//div[@class='prods-group']\")\n",
    "        if group_tag is not None:\n",
    "            ids_merged = group_tag.get_attribute('data-lstarranged').strip()\n",
    "            \n",
    "            childs_tag = group_tag.find_elements(By.XPATH, \"./ul/li\")\n",
    "            blocks_showed = ','.join(c.text for c in childs_tag)\n",
    "            print(ids_merged, blocks_showed)\n",
    "            \n",
    "            \n",
    "            \n",
    "                \n",
    "        \n",
    "        \n",
    "samsung_specifications()      "
   ]
  }
 ],
 "metadata": {
  "kernelspec": {
   "display_name": "Python 3",
   "language": "python",
   "name": "python3"
  },
  "language_info": {
   "codemirror_mode": {
    "name": "ipython",
    "version": 3
   },
   "file_extension": ".py",
   "mimetype": "text/x-python",
   "name": "python",
   "nbconvert_exporter": "python",
   "pygments_lexer": "ipython3",
   "version": "3.12.4"
  }
 },
 "nbformat": 4,
 "nbformat_minor": 2
}
