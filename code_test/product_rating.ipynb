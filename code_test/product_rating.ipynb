{
 "cells": [
  {
   "cell_type": "code",
   "execution_count": 1,
   "metadata": {},
   "outputs": [],
   "source": [
    "from selenium import webdriver\n",
    "from selenium.webdriver.chrome.options import Options\n",
    "from selenium.webdriver.chrome.service import Service\n",
    "from selenium.webdriver.common.by import By\n",
    "from selenium.common.exceptions import NoSuchElementException\n",
    "from webdriver_manager.chrome import ChromeDriverManager\n",
    "\n",
    "import time\n",
    "import re"
   ]
  },
  {
   "cell_type": "code",
   "execution_count": null,
   "metadata": {},
   "outputs": [],
   "source": [
    "service = Service(executable_path=ChromeDriverManager().install())\n",
    "options = Options()\n",
    "\n",
    "driver = webdriver.Chrome(service=service, options=options)\n",
    "\n",
    "url = \"https://www.thegioididong.com/laptop-asus#c=44&m=128&o=17&pi=2\"\n",
    "\n",
    "driver.get(url)\n",
    "time.sleep(8)\n",
    "\n",
    "parent_tags_list = driver.find_elements(By.XPATH, \"//li[@class=' item  __cate_44']\")\n",
    "\n",
    "def check_element_html(parent_tag, string_find_child_tag):\n",
    "    try:\n",
    "        element = parent_tag.find_element(By.XPATH, string_find_child_tag)\n",
    "    except NoSuchElementException:\n",
    "        element = None\n",
    "\n",
    "    return element\n",
    "\n",
    "def products_rating():\n",
    "    for i in range(len(parent_tags_list)):\n",
    "        avg_stars = 0\n",
    "        number_reviewed = 0\n",
    "        parent_tags_star = check_element_html(parent_tags_list[i], \".//div[@class='item-rating']\")\n",
    "        if parent_tags_star is not None:\n",
    "            # Calculate avg_stars\n",
    "            stars_tags_list = parent_tags_star.find_elements(By.XPATH, \"./p//i[@class='icon-star']\")\n",
    "            star_half_tag = check_element_html(parent_tags_star, \"./p//i[@class='icon-star-half']\")\n",
    "            avg_stars = len(stars_tags_list) + 0.5 if star_half_tag is not None else len(stars_tags_list)\n",
    "            \n",
    "            # find number_reviewed\n",
    "            number_reviewed = int(parent_tags_star.find_element(By.XPATH, \".//p[@class='item-rating-total']\").text)\n",
    "        else:\n",
    "            avg_stars = None\n",
    "            number_reviewed = None"
   ]
  }
 ],
 "metadata": {
  "kernelspec": {
   "display_name": "Python 3",
   "language": "python",
   "name": "python3"
  },
  "language_info": {
   "codemirror_mode": {
    "name": "ipython",
    "version": 3
   },
   "file_extension": ".py",
   "mimetype": "text/x-python",
   "name": "python",
   "nbconvert_exporter": "python",
   "pygments_lexer": "ipython3",
   "version": "3.12.4"
  }
 },
 "nbformat": 4,
 "nbformat_minor": 2
}
