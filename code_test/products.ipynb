{
 "cells": [
  {
   "cell_type": "code",
   "execution_count": 1,
   "metadata": {},
   "outputs": [],
   "source": [
    "from selenium import webdriver\n",
    "from selenium.webdriver.chrome.options import Options\n",
    "from selenium.webdriver.chrome.service import Service\n",
    "from selenium.webdriver.common.by import By\n",
    "from selenium.common.exceptions import NoSuchElementException\n",
    "from webdriver_manager.chrome import ChromeDriverManager\n",
    "\n",
    "import time\n",
    "import re"
   ]
  },
  {
   "cell_type": "code",
   "execution_count": 11,
   "metadata": {},
   "outputs": [
    {
     "ename": "NoSuchWindowException",
     "evalue": "Message: no such window: target window already closed\nfrom unknown error: web view not found\n  (Session info: chrome=126.0.6478.183)\nStacktrace:\n\tGetHandleVerifier [0x003CC203+27395]\n\t(No symbol) [0x00363E04]\n\t(No symbol) [0x00261B7F]\n\t(No symbol) [0x0023E483]\n\t(No symbol) [0x002CA06F]\n\t(No symbol) [0x002DC3D6]\n\t(No symbol) [0x002C3736]\n\t(No symbol) [0x00297541]\n\t(No symbol) [0x002980BD]\n\tGetHandleVerifier [0x00683AB3+2876339]\n\tGetHandleVerifier [0x006D7F7D+3221629]\n\tGetHandleVerifier [0x0044D674+556916]\n\tGetHandleVerifier [0x0045478C+585868]\n\t(No symbol) [0x0036CE44]\n\t(No symbol) [0x00369858]\n\t(No symbol) [0x003699F7]\n\t(No symbol) [0x0035BF4E]\n\tBaseThreadInitThunk [0x77187BA9+25]\n\tRtlInitializeExceptionChain [0x77B3C10B+107]\n\tRtlClearBits [0x77B3C08F+191]\n",
     "output_type": "error",
     "traceback": [
      "\u001b[1;31m---------------------------------------------------------------------------\u001b[0m",
      "\u001b[1;31mNoSuchWindowException\u001b[0m                     Traceback (most recent call last)",
      "Cell \u001b[1;32mIn[11], line 11\u001b[0m\n\u001b[0;32m      8\u001b[0m driver\u001b[38;5;241m.\u001b[39mget(url)\n\u001b[0;32m      9\u001b[0m time\u001b[38;5;241m.\u001b[39msleep(\u001b[38;5;241m8\u001b[39m)\n\u001b[1;32m---> 11\u001b[0m parent_tags_list \u001b[38;5;241m=\u001b[39m \u001b[43mdriver\u001b[49m\u001b[38;5;241;43m.\u001b[39;49m\u001b[43mfind_elements\u001b[49m\u001b[43m(\u001b[49m\u001b[43mBy\u001b[49m\u001b[38;5;241;43m.\u001b[39;49m\u001b[43mXPATH\u001b[49m\u001b[43m,\u001b[49m\u001b[43m \u001b[49m\u001b[38;5;124;43m\"\u001b[39;49m\u001b[38;5;124;43m//li[@class=\u001b[39;49m\u001b[38;5;124;43m'\u001b[39;49m\u001b[38;5;124;43m item ajaxed __cate_42\u001b[39;49m\u001b[38;5;124;43m'\u001b[39;49m\u001b[38;5;124;43m]\u001b[39;49m\u001b[38;5;124;43m\"\u001b[39;49m\u001b[43m)\u001b[49m\n\u001b[0;32m     13\u001b[0m \u001b[38;5;28;01mdef\u001b[39;00m \u001b[38;5;21mtransform_price\u001b[39m(price):\n\u001b[0;32m     14\u001b[0m     \u001b[38;5;28;01mreturn\u001b[39;00m \u001b[38;5;28mint\u001b[39m(price\u001b[38;5;241m.\u001b[39mreplace(\u001b[38;5;124m'\u001b[39m\u001b[38;5;124m₫\u001b[39m\u001b[38;5;124m'\u001b[39m, \u001b[38;5;124m'\u001b[39m\u001b[38;5;124m'\u001b[39m)\u001b[38;5;241m.\u001b[39mreplace(\u001b[38;5;124m'\u001b[39m\u001b[38;5;124m.\u001b[39m\u001b[38;5;124m'\u001b[39m, \u001b[38;5;124m'\u001b[39m\u001b[38;5;124m'\u001b[39m))\n",
      "File \u001b[1;32mc:\\Users\\vankh\\AppData\\Local\\Programs\\Python\\Python312\\Lib\\site-packages\\selenium\\webdriver\\remote\\webdriver.py:778\u001b[0m, in \u001b[0;36mWebDriver.find_elements\u001b[1;34m(self, by, value)\u001b[0m\n\u001b[0;32m    774\u001b[0m     value \u001b[38;5;241m=\u001b[39m \u001b[38;5;124mf\u001b[39m\u001b[38;5;124m'\u001b[39m\u001b[38;5;124m[name=\u001b[39m\u001b[38;5;124m\"\u001b[39m\u001b[38;5;132;01m{\u001b[39;00mvalue\u001b[38;5;132;01m}\u001b[39;00m\u001b[38;5;124m\"\u001b[39m\u001b[38;5;124m]\u001b[39m\u001b[38;5;124m'\u001b[39m\n\u001b[0;32m    776\u001b[0m \u001b[38;5;66;03m# Return empty list if driver returns null\u001b[39;00m\n\u001b[0;32m    777\u001b[0m \u001b[38;5;66;03m# See https://github.com/SeleniumHQ/selenium/issues/4555\u001b[39;00m\n\u001b[1;32m--> 778\u001b[0m \u001b[38;5;28;01mreturn\u001b[39;00m \u001b[38;5;28;43mself\u001b[39;49m\u001b[38;5;241;43m.\u001b[39;49m\u001b[43mexecute\u001b[49m\u001b[43m(\u001b[49m\u001b[43mCommand\u001b[49m\u001b[38;5;241;43m.\u001b[39;49m\u001b[43mFIND_ELEMENTS\u001b[49m\u001b[43m,\u001b[49m\u001b[43m \u001b[49m\u001b[43m{\u001b[49m\u001b[38;5;124;43m\"\u001b[39;49m\u001b[38;5;124;43musing\u001b[39;49m\u001b[38;5;124;43m\"\u001b[39;49m\u001b[43m:\u001b[49m\u001b[43m \u001b[49m\u001b[43mby\u001b[49m\u001b[43m,\u001b[49m\u001b[43m \u001b[49m\u001b[38;5;124;43m\"\u001b[39;49m\u001b[38;5;124;43mvalue\u001b[39;49m\u001b[38;5;124;43m\"\u001b[39;49m\u001b[43m:\u001b[49m\u001b[43m \u001b[49m\u001b[43mvalue\u001b[49m\u001b[43m}\u001b[49m\u001b[43m)\u001b[49m[\u001b[38;5;124m\"\u001b[39m\u001b[38;5;124mvalue\u001b[39m\u001b[38;5;124m\"\u001b[39m] \u001b[38;5;129;01mor\u001b[39;00m []\n",
      "File \u001b[1;32mc:\\Users\\vankh\\AppData\\Local\\Programs\\Python\\Python312\\Lib\\site-packages\\selenium\\webdriver\\remote\\webdriver.py:354\u001b[0m, in \u001b[0;36mWebDriver.execute\u001b[1;34m(self, driver_command, params)\u001b[0m\n\u001b[0;32m    352\u001b[0m response \u001b[38;5;241m=\u001b[39m \u001b[38;5;28mself\u001b[39m\u001b[38;5;241m.\u001b[39mcommand_executor\u001b[38;5;241m.\u001b[39mexecute(driver_command, params)\n\u001b[0;32m    353\u001b[0m \u001b[38;5;28;01mif\u001b[39;00m response:\n\u001b[1;32m--> 354\u001b[0m     \u001b[38;5;28;43mself\u001b[39;49m\u001b[38;5;241;43m.\u001b[39;49m\u001b[43merror_handler\u001b[49m\u001b[38;5;241;43m.\u001b[39;49m\u001b[43mcheck_response\u001b[49m\u001b[43m(\u001b[49m\u001b[43mresponse\u001b[49m\u001b[43m)\u001b[49m\n\u001b[0;32m    355\u001b[0m     response[\u001b[38;5;124m\"\u001b[39m\u001b[38;5;124mvalue\u001b[39m\u001b[38;5;124m\"\u001b[39m] \u001b[38;5;241m=\u001b[39m \u001b[38;5;28mself\u001b[39m\u001b[38;5;241m.\u001b[39m_unwrap_value(response\u001b[38;5;241m.\u001b[39mget(\u001b[38;5;124m\"\u001b[39m\u001b[38;5;124mvalue\u001b[39m\u001b[38;5;124m\"\u001b[39m, \u001b[38;5;28;01mNone\u001b[39;00m))\n\u001b[0;32m    356\u001b[0m     \u001b[38;5;28;01mreturn\u001b[39;00m response\n",
      "File \u001b[1;32mc:\\Users\\vankh\\AppData\\Local\\Programs\\Python\\Python312\\Lib\\site-packages\\selenium\\webdriver\\remote\\errorhandler.py:229\u001b[0m, in \u001b[0;36mErrorHandler.check_response\u001b[1;34m(self, response)\u001b[0m\n\u001b[0;32m    227\u001b[0m         alert_text \u001b[38;5;241m=\u001b[39m value[\u001b[38;5;124m\"\u001b[39m\u001b[38;5;124malert\u001b[39m\u001b[38;5;124m\"\u001b[39m]\u001b[38;5;241m.\u001b[39mget(\u001b[38;5;124m\"\u001b[39m\u001b[38;5;124mtext\u001b[39m\u001b[38;5;124m\"\u001b[39m)\n\u001b[0;32m    228\u001b[0m     \u001b[38;5;28;01mraise\u001b[39;00m exception_class(message, screen, stacktrace, alert_text)  \u001b[38;5;66;03m# type: ignore[call-arg]  # mypy is not smart enough here\u001b[39;00m\n\u001b[1;32m--> 229\u001b[0m \u001b[38;5;28;01mraise\u001b[39;00m exception_class(message, screen, stacktrace)\n",
      "\u001b[1;31mNoSuchWindowException\u001b[0m: Message: no such window: target window already closed\nfrom unknown error: web view not found\n  (Session info: chrome=126.0.6478.183)\nStacktrace:\n\tGetHandleVerifier [0x003CC203+27395]\n\t(No symbol) [0x00363E04]\n\t(No symbol) [0x00261B7F]\n\t(No symbol) [0x0023E483]\n\t(No symbol) [0x002CA06F]\n\t(No symbol) [0x002DC3D6]\n\t(No symbol) [0x002C3736]\n\t(No symbol) [0x00297541]\n\t(No symbol) [0x002980BD]\n\tGetHandleVerifier [0x00683AB3+2876339]\n\tGetHandleVerifier [0x006D7F7D+3221629]\n\tGetHandleVerifier [0x0044D674+556916]\n\tGetHandleVerifier [0x0045478C+585868]\n\t(No symbol) [0x0036CE44]\n\t(No symbol) [0x00369858]\n\t(No symbol) [0x003699F7]\n\t(No symbol) [0x0035BF4E]\n\tBaseThreadInitThunk [0x77187BA9+25]\n\tRtlInitializeExceptionChain [0x77B3C10B+107]\n\tRtlClearBits [0x77B3C08F+191]\n"
     ]
    }
   ],
   "source": [
    "service = Service(executable_path=ChromeDriverManager().install())\n",
    "options = Options()\n",
    "\n",
    "driver = webdriver.Chrome(service=service, options=options)\n",
    "\n",
    "url = \"https://www.thegioididong.com/dtdd-samsung\"\n",
    "\n",
    "driver.get(url)\n",
    "time.sleep(8)\n",
    "\n",
    "parent_tags_list = driver.find_elements(By.XPATH, \"//li[@class=' item ajaxed __cate_42']\")\n",
    "\n",
    "def transform_price(price):\n",
    "    return int(price.replace('₫', '').replace('.', ''))\n",
    "\n",
    "def check_element_html(parent_tag, string_find_child_tag):\n",
    "    try:\n",
    "        element = parent_tag.find_element(By.XPATH, string_find_child_tag)\n",
    "    except NoSuchElementException:\n",
    "        element = None\n",
    "\n",
    "    return element\n",
    "    \n",
    "def products(): \n",
    "    for i in range(len(parent_tags_list)):\n",
    "        # product_id = parent_tags_list[i].get_attribute('data-id')\n",
    "\n",
    "        # name = parent_tags_list[i].find_element(By.XPATH, \"./a[@class='main-contain ']/h3\").text\n",
    "\n",
    "        # brand = re.findall(r'(?:laptop|dtdd|may-tinh-bang)-(\\w+)', url)[0]\n",
    "\n",
    "        # # original_price_tag = parent_tags_list[i].find_element(By.XPATH, \"./a[@class='main-contain ']//div[@class='box-p']/p[@class='price-old black']\")\n",
    "        # original_price = check_element_html(parent_tags_list[i], \"./a[@class='main-contain ']//div[@class='box-p']/p[@class='price-old black']\")\n",
    "        # original_price = None if original_price is None else transform_price(original_price.text)\n",
    "\n",
    "        # # price_distcounted = transform_price(parent_tags_list[i].find_element(By.XPATH, \"./a[@class='main-contain ']//strong[@class='price']\").text) \n",
    "        # current_price = check_element_html(parent_tags_list[i], \"./a[@class='main-contain ']//strong[@class='price']\")\n",
    "        # current_price = None if current_price is None else transform_price(current_price.text)\n",
    "\n",
    "        # # gift = transform_price(parent_tags_list[i].find_element(By.XPATH, \"./a[@class='main-contain ']//p[@class='item-gift']/b\").text) \n",
    "        gift = check_element_html(parent_tags_list[i], \"./a[@class='main-contain ']//p[@class='item-gift']\")\n",
    "        if gift is not None:\n",
    "            gift = gift.text\n",
    "\n",
    "        # percent_discounted = parent_tags_list[i].find_element(By.XPATH, \"./a[@class='main-contain ']//div[@class='box-p']/span[@class='percent']\").text\n",
    "        # percent_discounted = check_element_html(parent_tags_list[i], \"./a[@class='main-contain ']//div[@class='box-p']/span[@class='percent']\")\n",
    "        # percent_discounted = None if percent_discounted is None else int(re.findall(r'[\\d]+', percent_discounted.text)[0])\n",
    "        \n",
    "        # link = parent_tags_list[i].find_element(By.XPATH, \"./a[@class='main-contain ']\").get_attribute('href') \n",
    "        \n",
    "        # image_tag = parent_tags_list[i].find_element(By.XPATH, \"./a[@class='main-contain ']//div[@class='item-img item-img_44']/img\")\n",
    "        # if image_tag.get_attribute('data-src') is None:\n",
    "        #     image_link = image_tag.get_attribute('src')\n",
    "        # else:\n",
    "        #     image_link = image_tag.get_attribute('data-src').replace(' ', '%20')\n",
    "            \n",
    "        # product = {\n",
    "        #     'product_id': product_id,\n",
    "        #     'name': name,\n",
    "        #     'brand': brand,\n",
    "        #     # 'original_price': original_price,\n",
    "        #     # 'current_price': current_price,\n",
    "        #     # 'gift': gift,\n",
    "        #     # 'percent_discounted': percent_discounted,\n",
    "        #     # 'link': link,\n",
    "        #     # 'image_link': image_link,\n",
    "        # }\n",
    "        \n",
    "# products()"
   ]
  },
  {
   "cell_type": "code",
   "execution_count": 5,
   "metadata": {},
   "outputs": [
    {
     "name": "stdout",
     "output_type": "stream",
     "text": [
      "{'parent_tag_class': ' item  __cate_44', 'parent_image_link_class': 'item-img item-img_44'}\n"
     ]
    }
   ],
   "source": [
    "url = \"https://www.thegioididong.com/laptop-asus#c=44&m=128&o=17&pi=2\"\n",
    "def handle_classes_base_on_url(url):\n",
    "    classes_base_on_url = dict()\n",
    "\n",
    "    def assign_key_value(**kwargs):\n",
    "        classes_base_on_url['parent_tag_class'] = kwargs['parent_tag_class']\n",
    "        classes_base_on_url['parent_image_link_class'] = kwargs['parent_image_link_class']\n",
    "        \n",
    "    if 'laptop' in url:\n",
    "        assign_key_value(parent_tag_class =' item  __cate_44', parent_image_link_class='item-img item-img_44', )\n",
    "        # classes_base_on_url['parent_tag_class'] = ' item  __cate_44'\n",
    "        # classes_base_on_url['parent_image_link_class'] = 'item-img item-img_44'\n",
    "        \n",
    "    print(classes_base_on_url)\n",
    "    \n",
    "handle_classes_base_on_url(url)"
   ]
  },
  {
   "cell_type": "code",
   "execution_count": 12,
   "metadata": {},
   "outputs": [
    {
     "name": "stdout",
     "output_type": "stream",
     "text": [
      "320721,322777,326348 256GB,512GB,1TB\n",
      "320722,322779 256GB,512GB\n",
      "249948,301796 8GB - 256GB,12GB - 512GB\n",
      "322096,321771,322670 12GB - 256GB,8GB - 128GB,8GB - 256GB\n",
      "327372,321891 12GB,8GB\n",
      "306994,321058 Bản Đặc Quyền,Bản Chuẩn\n",
      "321772,321778 256GB,128GB\n",
      "307174,319667,319668 256GB,512GB,1TB\n",
      "319665,307171 256GB,512GB\n",
      "307172,319666 256GB,512GB\n",
      "319904,310056 8GB,6GB\n",
      "316075,319901 256GB,128GB\n",
      "274018,305886 6GB,8GB\n",
      "317530,313202 6GB,4GB\n",
      "313194,313199 6GB,4GB\n"
     ]
    }
   ],
   "source": []
  }
 ],
 "metadata": {
  "kernelspec": {
   "display_name": "Python 3",
   "language": "python",
   "name": "python3"
  },
  "language_info": {
   "codemirror_mode": {
    "name": "ipython",
    "version": 3
   },
   "file_extension": ".py",
   "mimetype": "text/x-python",
   "name": "python",
   "nbconvert_exporter": "python",
   "pygments_lexer": "ipython3",
   "version": "3.12.4"
  }
 },
 "nbformat": 4,
 "nbformat_minor": 2
}
